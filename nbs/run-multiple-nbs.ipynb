{
 "cells": [
  {
   "cell_type": "raw",
   "metadata": {},
   "source": [
    "!pip install fire"
   ]
  },
  {
   "cell_type": "code",
   "execution_count": 1,
   "metadata": {
    "scrolled": true
   },
   "outputs": [
    {
     "name": "stdout",
     "output_type": "stream",
     "text": [
      "Traceback (most recent call last):\r\n",
      "  File \"/opt/conda/lib/python3.6/site-packages/nbconvert/preprocessors/execute.py\", line 324, in _wait_for_reply\r\n",
      "    msg = self.kc.shell_channel.get_msg(timeout=timeout)\r\n",
      "  File \"/opt/conda/lib/python3.6/site-packages/jupyter_client/blocking/channels.py\", line 57, in get_msg\r\n",
      "    raise Empty\r\n",
      "queue.Empty\r\n",
      "\r\n",
      "During handling of the above exception, another exception occurred:\r\n",
      "\r\n",
      "Traceback (most recent call last):\r\n",
      "  File \"run_notebook.py\", line 12, in <module>\r\n",
      "    if __name__ == '__main__': fire.Fire(run_notebook)\r\n",
      "  File \"/opt/conda/lib/python3.6/site-packages/fire/core.py\", line 138, in Fire\r\n",
      "    component_trace = _Fire(component, args, parsed_flag_args, context, name)\r\n",
      "  File \"/opt/conda/lib/python3.6/site-packages/fire/core.py\", line 471, in _Fire\r\n",
      "    target=component.__name__)\r\n",
      "  File \"/opt/conda/lib/python3.6/site-packages/fire/core.py\", line 675, in _CallAndUpdateTrace\r\n",
      "    component = fn(*varargs, **kwargs)\r\n",
      "  File \"run_notebook.py\", line 9, in run_notebook\r\n",
      "    ExecutePreprocessor(timeout=600).preprocess(nb, {})\r\n",
      "  File \"/opt/conda/lib/python3.6/site-packages/nbconvert/preprocessors/execute.py\", line 262, in preprocess\r\n",
      "    nb, resources = super(ExecutePreprocessor, self).preprocess(nb, resources)\r\n",
      "  File \"/opt/conda/lib/python3.6/site-packages/nbconvert/preprocessors/base.py\", line 69, in preprocess\r\n",
      "    nb.cells[index], resources = self.preprocess_cell(cell, resources, index)\r\n",
      "  File \"/opt/conda/lib/python3.6/site-packages/nbconvert/preprocessors/execute.py\", line 280, in preprocess_cell\r\n",
      "    reply, outputs = self.run_cell(cell, cell_index)\r\n",
      "  File \"/opt/conda/lib/python3.6/site-packages/nbconvert/preprocessors/execute.py\", line 348, in run_cell\r\n",
      "    exec_reply = self._wait_for_reply(msg_id, cell)\r\n",
      "  File \"/opt/conda/lib/python3.6/site-packages/nbconvert/preprocessors/execute.py\", line 337, in _wait_for_reply\r\n",
      "    raise exception(\"Cell execution timed out\")\r\n",
      "TimeoutError: Cell execution timed out\r\n"
     ]
    }
   ],
   "source": [
    "!python run_notebook.py Dev0727_5.ipynb"
   ]
  },
  {
   "cell_type": "code",
   "execution_count": null,
   "metadata": {},
   "outputs": [],
   "source": [
    "!python run_notebook.py Dev0727_4.ipynb"
   ]
  },
  {
   "cell_type": "code",
   "execution_count": null,
   "metadata": {},
   "outputs": [],
   "source": []
  }
 ],
 "metadata": {
  "kernelspec": {
   "display_name": "Python 3",
   "language": "python",
   "name": "python3"
  },
  "language_info": {
   "codemirror_mode": {
    "name": "ipython",
    "version": 3
   },
   "file_extension": ".py",
   "mimetype": "text/x-python",
   "name": "python",
   "nbconvert_exporter": "python",
   "pygments_lexer": "ipython3",
   "version": "3.6.6"
  },
  "toc": {
   "base_numbering": 1,
   "nav_menu": {},
   "number_sections": true,
   "sideBar": true,
   "skip_h1_title": false,
   "title_cell": "Table of Contents",
   "title_sidebar": "Contents",
   "toc_cell": false,
   "toc_position": {},
   "toc_section_display": true,
   "toc_window_display": false
  }
 },
 "nbformat": 4,
 "nbformat_minor": 2
}
