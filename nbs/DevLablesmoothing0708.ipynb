{
 "cells": [
  {
   "cell_type": "markdown",
   "metadata": {},
   "source": [
    "# params"
   ]
  },
  {
   "cell_type": "code",
   "execution_count": 1,
   "metadata": {},
   "outputs": [],
   "source": [
    "dbg = True\n",
    "if dbg:\n",
    "    dbgsz = 500\n",
    "\n",
    "PRFX = 'CV070816'    \n",
    "p_o = f'../output/{PRFX}'\n",
    "SEED = 111\n",
    "\n",
    "BS = 128\n",
    "SZ = 224\n",
    "FP16 = False\n"
   ]
  },
  {
   "cell_type": "markdown",
   "metadata": {},
   "source": [
    "# setup"
   ]
  },
  {
   "cell_type": "code",
   "execution_count": 2,
   "metadata": {
    "_cell_guid": "79c7e3d0-c299-4dcb-8224-4455121ee9b0",
    "_uuid": "d629ff2d2480ee46fbb7e2d37f6b5fab8052498a"
   },
   "outputs": [
    {
     "name": "stdout",
     "output_type": "stream",
     "text": [
      "fastai.__version__:  1.0.54\n"
     ]
    }
   ],
   "source": [
    "import fastai\n",
    "print('fastai.__version__: ', fastai.__version__)\n",
    "\n",
    "import random \n",
    "import numpy as np\n",
    "import torch\n",
    "import os\n",
    "\n",
    "def set_torch_seed(seed=SEED):\n",
    "    os.environ['PYTHONHASHSEED'] = str(seed)\n",
    "    random.seed(seed)\n",
    "    np.random.seed(seed)\n",
    "    torch.manual_seed(seed)\n",
    "    \n",
    "    if torch.cuda.is_available(): \n",
    "        torch.cuda.manual_seed(seed)\n",
    "        torch.cuda.manual_seed_all(seed) \n",
    "        torch.backends.cudnn.deterministic = True \n",
    "        torch.backends.cudnn.benchmark = False\n",
    "\n",
    "set_torch_seed()\n",
    "\n",
    "from fastai import *\n",
    "from fastai.vision import *\n",
    "from fastai.callbacks import *\n",
    "\n",
    "import scipy as sp\n",
    "from sklearn.metrics import cohen_kappa_score\n",
    "\n",
    "def quadratic_weighted_kappa(y1, y2):\n",
    "    return cohen_kappa_score(y1, y2, weights='quadratic')"
   ]
  },
  {
   "cell_type": "markdown",
   "metadata": {},
   "source": [
    "# preprocess"
   ]
  },
  {
   "cell_type": "code",
   "execution_count": 3,
   "metadata": {},
   "outputs": [
    {
     "data": {
      "text/plain": [
       "(3662, 1928)"
      ]
     },
     "execution_count": 3,
     "metadata": {},
     "output_type": "execute_result"
    }
   ],
   "source": [
    "img2grd = []\n",
    "\n",
    "p = '../input/aptos2019-blindness-detection'\n",
    "pp = Path(p)\n",
    "train = pd.read_csv(pp/'train.csv')\n",
    "test  = pd.read_csv(pp/'test.csv')\n",
    "len_blnd = len(train)\n",
    "len_blnd_test = len(test)\n",
    "\n",
    "img2grd_blnd = [(f'{p}/train_images/{o[0]}.png',o[1])  for o in train.values]\n",
    "\n",
    "len_blnd, len_blnd_test"
   ]
  },
  {
   "cell_type": "code",
   "execution_count": 4,
   "metadata": {},
   "outputs": [
    {
     "data": {
      "text/plain": [
       "3662"
      ]
     },
     "metadata": {},
     "output_type": "display_data"
    },
    {
     "data": {
      "text/plain": [
       "[(0, 1805), (2, 999), (1, 370), (4, 295), (3, 193)]"
      ]
     },
     "metadata": {},
     "output_type": "display_data"
    }
   ],
   "source": [
    "img2grd += img2grd_blnd\n",
    "display(len(img2grd))\n",
    "display(Counter(o[1] for o in img2grd).most_common())"
   ]
  },
  {
   "cell_type": "code",
   "execution_count": 5,
   "metadata": {},
   "outputs": [
    {
     "data": {
      "text/plain": [
       "38788"
      ]
     },
     "metadata": {},
     "output_type": "display_data"
    },
    {
     "data": {
      "text/plain": [
       "[(0, 27615), (2, 6291), (1, 2813), (3, 1066), (4, 1003)]"
      ]
     },
     "metadata": {},
     "output_type": "display_data"
    }
   ],
   "source": [
    "p = '../input/diabetic-retinopathy-detection'\n",
    "pp = Path(p)\n",
    "\n",
    "train=pd.read_csv(pp/'trainLabels.csv')\n",
    "img2grd_diab_train=[(f'../input/diabetic-retinopathy-detection/train_images/{o[0]}.jpeg',o[1])  for o in train.values]\n",
    "img2grd += img2grd_diab_train\n",
    "display(len(img2grd))\n",
    "display(Counter(o[1] for o in img2grd).most_common())\n",
    "\n",
    "# test=pd.read_csv(pp/'retinopathy_solution.csv')\n",
    "# img2grd_diab_test=[(f'../input/diabetic-retinopathy-detection/test_images/{o[0]}.jpeg',o[1])  for o in test.values]\n",
    "# img2grd += img2grd_diab_test\n",
    "# display(len(img2grd))\n",
    "# display(Counter(o[1] for o in img2grd).most_common())\n"
   ]
  },
  {
   "cell_type": "code",
   "execution_count": 6,
   "metadata": {},
   "outputs": [
    {
     "data": {
      "text/plain": [
       "39201"
      ]
     },
     "metadata": {},
     "output_type": "display_data"
    },
    {
     "data": {
      "text/plain": [
       "[(0, 27749), (2, 6427), (1, 2833), (3, 1140), (4, 1052)]"
      ]
     },
     "metadata": {},
     "output_type": "display_data"
    },
    {
     "data": {
      "text/plain": [
       "39304"
      ]
     },
     "metadata": {},
     "output_type": "display_data"
    },
    {
     "data": {
      "text/plain": [
       "[(0, 27783), (2, 6459), (1, 2838), (3, 1159), (4, 1065)]"
      ]
     },
     "metadata": {},
     "output_type": "display_data"
    }
   ],
   "source": [
    "p = '../input/IDRID/B. Disease Grading'\n",
    "pp = Path(p)\n",
    "\n",
    "train=pd.read_csv(pp/'2. Groundtruths/a. IDRiD_Disease Grading_Training Labels.csv')\n",
    "img2grd_idrid_train=[(f'../input/IDRID/B. Disease Grading/1. Original Images/a. Training Set/{o[0]}.jpg',o[1])  for o in train.values]\n",
    "img2grd += img2grd_idrid_train\n",
    "display(len(img2grd))\n",
    "display(Counter(o[1] for o in img2grd).most_common())\n",
    "\n",
    "test=pd.read_csv(pp/'2. Groundtruths/b. IDRiD_Disease Grading_Testing Labels.csv')\n",
    "img2grd_idrid_test=[(f'../input/IDRID/B. Disease Grading/1. Original Images/b. Testing Set/{o[0]}.jpg',o[1])  for o in test.values]\n",
    "img2grd += img2grd_idrid_test\n",
    "display(len(img2grd))\n",
    "display(Counter(o[1] for o in img2grd).most_common())"
   ]
  },
  {
   "cell_type": "code",
   "execution_count": 7,
   "metadata": {},
   "outputs": [],
   "source": [
    "if not np.all([Path(o[0]).exists() for o in img2grd]): print('Some files are missing!!!')"
   ]
  },
  {
   "cell_type": "code",
   "execution_count": null,
   "metadata": {},
   "outputs": [],
   "source": []
  },
  {
   "cell_type": "code",
   "execution_count": 34,
   "metadata": {},
   "outputs": [
    {
     "data": {
      "text/plain": [
       "(39304, 2)"
      ]
     },
     "execution_count": 34,
     "metadata": {},
     "output_type": "execute_result"
    }
   ],
   "source": [
    "df = pd.DataFrame(img2grd)\n",
    "df.columns = ['fnm', 'target']\n",
    "\n",
    "df.shape"
   ]
  },
  {
   "cell_type": "code",
   "execution_count": 35,
   "metadata": {},
   "outputs": [],
   "source": [
    "set_torch_seed()\n",
    "idx_blnd_train = np.where(df.fnm.str.contains('aptos2019-blindness-detection/train_images'))[0]\n",
    "idx_val = np.random.choice(idx_blnd_train, int(len_blnd*0.50), replace=False)\n",
    "df['is_val']=False\n",
    "df.loc[idx_val, 'is_val']=True\n",
    "\n",
    "if dbg:\n",
    "    df=df.head(dbgsz)"
   ]
  },
  {
   "cell_type": "markdown",
   "metadata": {},
   "source": [
    "# label smoothing"
   ]
  },
  {
   "cell_type": "code",
   "execution_count": 36,
   "metadata": {
    "scrolled": true
   },
   "outputs": [
    {
     "data": {
      "text/plain": [
       "0      2\n",
       "1      4\n",
       "2      1\n",
       "3      0\n",
       "4      0\n",
       "5      4\n",
       "6      0\n",
       "7      2\n",
       "8      2\n",
       "9      1\n",
       "10     0\n",
       "11     2\n",
       "12     0\n",
       "13     3\n",
       "14     1\n",
       "15     0\n",
       "16     2\n",
       "17     0\n",
       "18     0\n",
       "19     2\n",
       "20     2\n",
       "21     0\n",
       "22     1\n",
       "23     2\n",
       "24     0\n",
       "25     2\n",
       "26     0\n",
       "27     0\n",
       "28     0\n",
       "29     0\n",
       "      ..\n",
       "470    2\n",
       "471    0\n",
       "472    2\n",
       "473    0\n",
       "474    4\n",
       "475    4\n",
       "476    1\n",
       "477    0\n",
       "478    0\n",
       "479    2\n",
       "480    4\n",
       "481    1\n",
       "482    2\n",
       "483    0\n",
       "484    2\n",
       "485    0\n",
       "486    0\n",
       "487    4\n",
       "488    1\n",
       "489    2\n",
       "490    0\n",
       "491    2\n",
       "492    2\n",
       "493    2\n",
       "494    0\n",
       "495    2\n",
       "496    2\n",
       "497    2\n",
       "498    0\n",
       "499    3\n",
       "Name: target, Length: 500, dtype: int64"
      ]
     },
     "execution_count": 36,
     "metadata": {},
     "output_type": "execute_result"
    }
   ],
   "source": [
    "df.target"
   ]
  },
  {
   "cell_type": "code",
   "execution_count": 37,
   "metadata": {
    "scrolled": true
   },
   "outputs": [
    {
     "data": {
      "text/plain": [
       "[(2, 2.032780782730086),\n",
       " (4, 3.9260265305114164),\n",
       " (1, 1.0272072315710816),\n",
       " (0, -0.05243778392710883),\n",
       " (0, -0.06847716566349542),\n",
       " (4, 3.9148575091699627),\n",
       " (0, -0.07399748996943266),\n",
       " (2, 2.128153511826883),\n",
       " (2, 2.076894517984314),\n",
       " (1, 0.982886383574635),\n",
       " (0, 0.02947087106830288),\n",
       " (2, 2.0363181431742623),\n",
       " (0, -0.07134401898061103),\n",
       " (3, 3.0132702905763558),\n",
       " (1, 1.0972474267112369),\n",
       " (0, -0.038284847006034566),\n",
       " (2, 2.0156961260399813),\n",
       " (0, -0.03738713160215835),\n",
       " (0, 0.03138477886643225),\n",
       " (2, 2.0851802502627454),\n",
       " (2, 2.0310773127914192),\n",
       " (0, -0.019810548064305874),\n",
       " (1, 1.0205608481528925),\n",
       " (2, 2.0229154240882297),\n",
       " (0, -0.013494513555591572),\n",
       " (2, 1.9773498608275695),\n",
       " (0, 0.01348974186671456),\n",
       " (0, -0.0004464466492313425),\n",
       " (0, 0.0023677881021429074),\n",
       " (0, 0.034901822166970055),\n",
       " (0, -0.0711521881553172),\n",
       " (0, 0.0026637480218042082),\n",
       " (4, 4.010930837871856),\n",
       " (2, 1.959392561110545),\n",
       " (4, 4.016683876061532),\n",
       " (2, 2.004501781861665),\n",
       " (0, -0.0407598199808172),\n",
       " (0, -0.06950443423880201),\n",
       " (4, 3.916607961760317),\n",
       " (0, -0.00852490738302367),\n",
       " (4, 3.9530913595890627),\n",
       " (2, 2.0437635293233463),\n",
       " (2, 1.9019684383070932),\n",
       " (4, 4.010486710547032),\n",
       " (2, 1.9811856076740189),\n",
       " (1, 0.9699195356955719),\n",
       " (2, 2.044521466004929),\n",
       " (4, 4.031590388359698),\n",
       " (0, -0.10377620584898697),\n",
       " (3, 3.0491267807062923),\n",
       " (1, 0.9779828508810549),\n",
       " (2, 1.9343632388535834),\n",
       " (2, 1.995677884393684),\n",
       " (2, 1.989088912935978),\n",
       " (2, 2.039409187111181),\n",
       " (0, 0.03778278284852694),\n",
       " (3, 2.9829702279319763),\n",
       " (0, -0.006681211441896319),\n",
       " (2, 1.937501135453027),\n",
       " (1, 0.8906510758429969),\n",
       " (0, -0.1286449618927574),\n",
       " (2, 1.9692693056683892),\n",
       " (0, 0.03491233424814138),\n",
       " (0, -0.03302406222043021),\n",
       " (0, 0.04332113581957556),\n",
       " (0, -0.030303488601737195),\n",
       " (2, 1.9998892445265462),\n",
       " (2, 1.9665958090036881),\n",
       " (0, 0.0441513933866037),\n",
       " (0, -0.024606793414210335),\n",
       " (0, -0.029269491934159092),\n",
       " (1, 0.9240058491427767),\n",
       " (1, 1.0066053086329028),\n",
       " (0, -0.002827103975162411),\n",
       " (3, 3.022580058402779),\n",
       " (0, 0.06477777505434643),\n",
       " (2, 2.050722120719877),\n",
       " (0, -0.0035413862861138467),\n",
       " (2, 1.9782841685813846),\n",
       " (0, 0.0033859941168896987),\n",
       " (1, 0.9580354092038575),\n",
       " (3, 3.0112643258827685),\n",
       " (1, 0.940452006418849),\n",
       " (0, -0.013924903704615466),\n",
       " (2, 1.9239578927321646),\n",
       " (0, -0.048959369091850065),\n",
       " (0, 0.07941964531320693),\n",
       " (3, 3.0053297979344937),\n",
       " (4, 3.9910584580162225),\n",
       " (2, 2.008167226807052),\n",
       " (2, 2.092197110579439),\n",
       " (0, 0.08817674398529649),\n",
       " (0, -0.04483915121072871),\n",
       " (0, -0.019259467731903453),\n",
       " (0, 0.0265758729577131),\n",
       " (1, 1.0595844756815112),\n",
       " (0, -0.046128958418067856),\n",
       " (3, 3.003657105316134),\n",
       " (1, 0.999263634877461),\n",
       " (0, 0.0063264902125740805),\n",
       " (2, 1.9354225243488987),\n",
       " (2, 1.9792827615069781),\n",
       " (0, 0.016752912049916944),\n",
       " (0, -0.07550812674236934),\n",
       " (0, 0.04957419940548682),\n",
       " (4, 4.109573070356748),\n",
       " (4, 3.953580376001309),\n",
       " (0, 0.021016671923161007),\n",
       " (0, 0.15332142449260297),\n",
       " (1, 1.0207556164967602),\n",
       " (2, 2.0410346149202905),\n",
       " (4, 4.042594284010547),\n",
       " (0, -0.05213601527441093),\n",
       " (0, 0.013771547375602128),\n",
       " (2, 2.0026738635743855),\n",
       " (0, -0.031076415370623636),\n",
       " (0, 0.09009497249884263),\n",
       " (0, -0.06537487949486433),\n",
       " (0, -0.04275432531335793),\n",
       " (0, 0.060504077359161704),\n",
       " (3, 2.9732223619563314),\n",
       " (0, -0.025857059053765365),\n",
       " (2, 1.9028410010692969),\n",
       " (2, 1.9467051427187076),\n",
       " (0, 0.024361723049405013),\n",
       " (0, -0.04481368569245305),\n",
       " (4, 4.00190922915315),\n",
       " (0, -0.0033270600422714487),\n",
       " (0, 0.0114964626145456),\n",
       " (1, 0.873955000725863),\n",
       " (0, 0.02918349246814539),\n",
       " (2, 1.9743548546263867),\n",
       " (0, -0.11074680453803609),\n",
       " (2, 1.9899083575410692),\n",
       " (2, 1.9662667638434435),\n",
       " (2, 2.0492701157061486),\n",
       " (1, 0.9857185011363973),\n",
       " (0, -0.0580599985842435),\n",
       " (0, 0.02123292697151783),\n",
       " (1, 1.0229053500402725),\n",
       " (0, -0.032237585510824916),\n",
       " (0, -0.003230062733500072),\n",
       " (0, 0.08273202542335535),\n",
       " (2, 2.028203732713581),\n",
       " (0, -0.06878566966115522),\n",
       " (2, 1.982181025870871),\n",
       " (1, 1.0349223157751368),\n",
       " (4, 3.946918622471137),\n",
       " (0, 0.07560912894402333),\n",
       " (2, 1.9744171711514114),\n",
       " (0, 0.05382340234162413),\n",
       " (2, 2.003162729277899),\n",
       " (0, -0.06948144653039165),\n",
       " (0, 0.012464479201111149),\n",
       " (0, -0.02597698251932908),\n",
       " (0, 0.10033967330196386),\n",
       " (0, 0.06262074858990384),\n",
       " (0, 0.0016394766697718358),\n",
       " (4, 3.9976771996283484),\n",
       " (2, 1.9669602786513498),\n",
       " (0, -0.030404537319229614),\n",
       " (0, 0.059763679444102526),\n",
       " (2, 2.0658113774549007),\n",
       " (2, 1.9729918469258942),\n",
       " (2, 2.0590685085074876),\n",
       " (3, 3.0112425880125913),\n",
       " (2, 1.9435679898497251),\n",
       " (0, -0.06728221454241466),\n",
       " (3, 2.9613754027243937),\n",
       " (0, -0.04286333863137659),\n",
       " (0, 0.010523152028319008),\n",
       " (0, 0.0741635704117649),\n",
       " (0, 0.002456439846849491),\n",
       " (4, 4.000042499483802),\n",
       " (0, -0.028382159120733882),\n",
       " (2, 2.060406258221704),\n",
       " (0, 0.02798199269617212),\n",
       " (1, 1.0450064264215262),\n",
       " (0, -0.021514591247958837),\n",
       " (0, 0.022734659868013957),\n",
       " (0, -0.08780082804074353),\n",
       " (2, 1.9528685747306824),\n",
       " (0, -0.0765702711476608),\n",
       " (0, -0.004645917393364152),\n",
       " (0, -0.04754148859853365),\n",
       " (0, -0.06879696770204863),\n",
       " (2, 1.9063989288435002),\n",
       " (0, 0.1055311378062601),\n",
       " (1, 0.9482001972642662),\n",
       " (3, 3.074168987877523),\n",
       " (1, 1.0074966733643917),\n",
       " (0, -0.0026933164742856362),\n",
       " (4, 4.0365739911107745),\n",
       " (0, -0.0687798019850876),\n",
       " (0, 0.0052119364789968686),\n",
       " (2, 1.9812743742080472),\n",
       " (4, 4.018949452088863),\n",
       " (0, 0.012812642635197448),\n",
       " (1, 0.9819214025491376),\n",
       " (0, 0.08848658576959656),\n",
       " (3, 2.9086621589037795),\n",
       " (0, 0.019646059435934265),\n",
       " (2, 1.9777277609909376),\n",
       " (2, 2.007358194047335),\n",
       " (0, 0.1080545296100987),\n",
       " (1, 1.084740214042801),\n",
       " (0, -0.08648811189255878),\n",
       " (3, 3.062568510082317),\n",
       " (3, 3.046484011082858),\n",
       " (1, 0.9526750789839162),\n",
       " (2, 2.055103969508278),\n",
       " (0, -0.006568385643662177),\n",
       " (0, -0.02742912719038997),\n",
       " (2, 2.0551195054360627),\n",
       " (2, 2.0008780182853476),\n",
       " (0, 0.010167176756760479),\n",
       " (2, 2.08825845324917),\n",
       " (0, -0.043543876629825035),\n",
       " (0, 0.045816767565349414),\n",
       " (2, 2.0518954050519036),\n",
       " (1, 0.9821406097718962),\n",
       " (0, 0.008924594409080102),\n",
       " (0, 0.013857719009648585),\n",
       " (1, 0.9500937500995837),\n",
       " (0, 0.014598253138933147),\n",
       " (0, -0.0715183151023978),\n",
       " (0, -0.0302059587765022),\n",
       " (2, 1.939407668987534),\n",
       " (2, 2.0165935300796103),\n",
       " (0, -0.007810444137755092),\n",
       " (1, 1.1049494418088581),\n",
       " (0, 0.050835683503024476),\n",
       " (4, 3.960194223781756),\n",
       " (1, 0.9779349162926563),\n",
       " (1, 0.9735232052188932),\n",
       " (2, 2.1044358366077693),\n",
       " (4, 4.023060650373402),\n",
       " (2, 1.9589510934319279),\n",
       " (2, 1.9546757997096473),\n",
       " (2, 1.9465906959754278),\n",
       " (0, 0.009308073675556082),\n",
       " (2, 2.008350678068845),\n",
       " (0, -0.050546999722610376),\n",
       " (2, 2.0329850977326593),\n",
       " (0, 0.036521548457715804),\n",
       " (2, 1.9988368874432454),\n",
       " (2, 2.0307844132450916),\n",
       " (0, -0.04674377749675365),\n",
       " (0, 0.07508071012536766),\n",
       " (0, -0.01350224164880757),\n",
       " (0, -0.013769334378442188),\n",
       " (1, 1.0154449678262671),\n",
       " (1, 0.9892212181782123),\n",
       " (2, 1.9493988254814718),\n",
       " (0, 0.010351944415840843),\n",
       " (2, 2.002431786358612),\n",
       " (0, 0.022220060973491537),\n",
       " (2, 2.0172951449623504),\n",
       " (1, 0.9499527874500948),\n",
       " (0, 0.01756641508480784),\n",
       " (0, 0.005989142040571413),\n",
       " (0, 0.007272015744529375),\n",
       " (2, 2.0078104679934126),\n",
       " (0, 0.05838624630383216),\n",
       " (2, 2.0158682525158285),\n",
       " (2, 1.988661438304332),\n",
       " (2, 1.9298047372174765),\n",
       " (2, 2.0328918935174123),\n",
       " (0, 0.07270026431550146),\n",
       " (2, 1.8988243955468753),\n",
       " (2, 2.1035656896803094),\n",
       " (2, 2.0322763515975035),\n",
       " (0, 0.05575325363166416),\n",
       " (3, 3.0000484374447924),\n",
       " (2, 2.0279469391561884),\n",
       " (0, -0.011816917237038926),\n",
       " (0, 0.007677910756463223),\n",
       " (0, 0.046481572312331715),\n",
       " (0, -0.09215604926621691),\n",
       " (2, 1.9977661301646987),\n",
       " (2, 2.0281492082084944),\n",
       " (0, 0.013599467452771167),\n",
       " (2, 2.0999055668617768),\n",
       " (2, 1.9774285912697462),\n",
       " (0, -0.019534170220116016),\n",
       " (3, 2.9425235927019293),\n",
       " (0, -0.027627555951971458),\n",
       " (1, 1.0161327049212399),\n",
       " (2, 1.8666738577359185),\n",
       " (0, 0.001694884116491045),\n",
       " (4, 3.9739600009959064),\n",
       " (3, 3.0206374464462806),\n",
       " (0, -0.00735905316853335),\n",
       " (0, 0.001543603262906744),\n",
       " (0, -0.006779802488121752),\n",
       " (0, 0.023113430656317047),\n",
       " (3, 3.0218286814873268),\n",
       " (2, 2.0288269237537104),\n",
       " (0, 0.052731113744567404),\n",
       " (4, 3.8944386276528773),\n",
       " (0, -0.01142154624087159),\n",
       " (0, 0.011687251398550692),\n",
       " (0, -0.040205475921677225),\n",
       " (4, 4.064957042692021),\n",
       " (3, 3.0136015020690965),\n",
       " (4, 4.004582701929425),\n",
       " (2, 2.023087315208499),\n",
       " (1, 0.984745286290571),\n",
       " (0, 0.04140222626139385),\n",
       " (2, 1.9599125691076227),\n",
       " (0, -0.10321516823464937),\n",
       " (0, -0.005396479529435519),\n",
       " (0, -0.00314415692376517),\n",
       " (0, -0.04168019964739625),\n",
       " (0, 0.00046056897586413154),\n",
       " (2, 1.979083053269332),\n",
       " (1, 0.994886538205575),\n",
       " (0, 0.04061293362285048),\n",
       " (2, 2.019262082775747),\n",
       " (2, 1.9529902034821767),\n",
       " (2, 2.0475028712534242),\n",
       " (0, -0.03041337207945559),\n",
       " (0, 0.015632755929938735),\n",
       " (0, -0.11500990881964437),\n",
       " (0, -0.01073486474147932),\n",
       " (4, 3.9568660015676853),\n",
       " (0, 0.04745925624787579),\n",
       " (2, 1.9965151603960247),\n",
       " (0, 0.058784115338308844),\n",
       " (0, -0.046727637562737095),\n",
       " (2, 1.9832975398724582),\n",
       " (1, 0.9720072866186878),\n",
       " (0, 0.028933034770065164),\n",
       " (0, -0.03738408475421059),\n",
       " (0, -0.0032364098740775143),\n",
       " (0, 0.03984885962767022),\n",
       " (2, 2.038738082512805),\n",
       " (2, 1.9839908174156062),\n",
       " (0, 0.02145602746696904),\n",
       " (2, 1.9339312246126563),\n",
       " (2, 2.0245847603504177),\n",
       " (3, 2.987525682419166),\n",
       " (0, -0.003834332674676891),\n",
       " (3, 3.0337120829224986),\n",
       " (2, 2.033748773940484),\n",
       " (1, 0.9300938553448937),\n",
       " (0, -0.06942827727485044),\n",
       " (2, 2.011736032373489),\n",
       " (2, 2.022549197995776),\n",
       " (1, 0.9296741743632483),\n",
       " (0, 0.023582142034226358),\n",
       " (0, -0.08169466218913958),\n",
       " (1, 1.0485800926030164),\n",
       " (4, 3.909874928671509),\n",
       " (1, 0.9560317096000692),\n",
       " (0, -0.026214696040007285),\n",
       " (0, -0.018969336542516403),\n",
       " (2, 1.9691320163764516),\n",
       " (0, -0.08498128426602379),\n",
       " (2, 2.058284072084316),\n",
       " (4, 3.9425770986596778),\n",
       " (4, 4.010793018105318),\n",
       " (3, 2.9134604710655827),\n",
       " (0, -0.17093575689572016),\n",
       " (2, 2.0088694856657705),\n",
       " (0, 0.03318192472165201),\n",
       " (2, 1.955401649881034),\n",
       " (1, 1.063011014022494),\n",
       " (4, 3.971547843753894),\n",
       " (0, -0.00023284506519278249),\n",
       " (0, 0.12851822971654056),\n",
       " (2, 2.059334285105191),\n",
       " (3, 3.0133085264822137),\n",
       " (0, 0.010963058049569891),\n",
       " (0, 0.009537021777314645),\n",
       " (2, 2.018010389816295),\n",
       " (1, 0.9952415534235867),\n",
       " (2, 2.1050178925956238),\n",
       " (4, 4.034033174270991),\n",
       " (1, 0.9130255413916116),\n",
       " (2, 1.9655325527167944),\n",
       " (0, 0.04733232645303634),\n",
       " (1, 0.9985593512803372),\n",
       " (0, -0.006882158089415192),\n",
       " (2, 2.0074788305771323),\n",
       " (4, 4.044529248326669),\n",
       " (2, 1.964466917286798),\n",
       " (2, 1.9582451118825015),\n",
       " (2, 1.9723626938256837),\n",
       " (2, 2.045107766176413),\n",
       " (0, -0.03158800473817593),\n",
       " (3, 2.9940011694759328),\n",
       " (0, -0.028846626823940038),\n",
       " (0, -0.037481565550132635),\n",
       " (0, -0.12977303609979352),\n",
       " (0, 0.081800357031999),\n",
       " (0, 0.02733430366874088),\n",
       " (0, -0.0796140769115163),\n",
       " (2, 1.9624305932542183),\n",
       " (0, 0.005315323537624557),\n",
       " (0, 0.06177286659614605),\n",
       " (1, 1.0073311896483543),\n",
       " (2, 1.9750494850919755),\n",
       " (0, -0.0416527503608109),\n",
       " (0, -0.051492956994689525),\n",
       " (0, -0.0246547104476195),\n",
       " (0, 0.00011694527308952815),\n",
       " (0, 0.004191960289956469),\n",
       " (2, 1.9710548180697995),\n",
       " (1, 1.03893721237123),\n",
       " (0, -0.012158447057074667),\n",
       " (2, 1.9390206813929092),\n",
       " (0, -0.02927671156528849),\n",
       " (0, -0.01334629129616749),\n",
       " (2, 1.978294890031446),\n",
       " (0, 0.03751410070333866),\n",
       " (2, 1.9923876070821738),\n",
       " (2, 1.9351406106599307),\n",
       " (0, -0.04630368784481295),\n",
       " (0, 0.04930463170677307),\n",
       " (0, 0.04342832873002612),\n",
       " (1, 0.9731279512956407),\n",
       " (2, 1.9864848807506765),\n",
       " (0, 0.1142712591669485),\n",
       " (0, 0.045925213750120264),\n",
       " (2, 2.1207152464337655),\n",
       " (2, 2.0750326841392646),\n",
       " (2, 1.9791628861811001),\n",
       " (2, 1.957597050145518),\n",
       " (0, -0.01137467757569516),\n",
       " (0, -0.11980838880453899),\n",
       " (1, 1.0732796706624101),\n",
       " (0, 0.0035584976525832148),\n",
       " (4, 3.9296636954503508),\n",
       " (0, -0.04034907956543941),\n",
       " (2, 1.9997866054202729),\n",
       " (0, 0.030382668057505183),\n",
       " (0, -0.05018997945484186),\n",
       " (4, 4.052160054006021),\n",
       " (2, 1.9805682415438448),\n",
       " (2, 1.927716489355102),\n",
       " (0, -0.015769308030519572),\n",
       " (0, -0.005582540861413795),\n",
       " (0, -0.05939784003372453),\n",
       " (2, 2.0171742931444037),\n",
       " (0, -0.009527909367127788),\n",
       " (2, 2.0308996194530726),\n",
       " (0, -0.018705325479725313),\n",
       " (2, 1.9273114422389834),\n",
       " (0, -0.10101009942462316),\n",
       " (0, -0.05700473453852265),\n",
       " (0, 0.08779358448564142),\n",
       " (4, 4.0372394450271205),\n",
       " (0, -0.021016648930152322),\n",
       " (2, 2.0525741900702643),\n",
       " (1, 1.0312548050788062),\n",
       " (4, 3.933537335989292),\n",
       " (0, -0.01631360954228982),\n",
       " (0, -0.08673422962202935),\n",
       " (2, 1.9656300894670489),\n",
       " (2, 1.97946089536873),\n",
       " (2, 2.0353308970164163),\n",
       " (2, 2.021321889158227),\n",
       " (0, -0.04016571650647313),\n",
       " (2, 2.0072856043779437),\n",
       " (4, 3.9929799711949947),\n",
       " (0, -0.15315017349362292),\n",
       " (0, 0.05178524661091038),\n",
       " (0, 0.04257663884167162),\n",
       " (4, 3.992362003894467),\n",
       " (2, 1.9759364326504614),\n",
       " (0, 0.05194353064979036),\n",
       " (2, 1.9308097102902355),\n",
       " (0, 0.01608436077167471),\n",
       " (4, 4.020231364379526),\n",
       " (4, 3.99413296108584),\n",
       " (1, 0.9602367404623101),\n",
       " (0, -0.028886118511723416),\n",
       " (0, -0.015155194802771993),\n",
       " (2, 2.009998290715227),\n",
       " (4, 4.000726209656715),\n",
       " (1, 1.018394693150638),\n",
       " (2, 1.9548372326575094),\n",
       " (0, -0.015778002248645125),\n",
       " (2, 1.9867326803098715),\n",
       " (0, -0.03113626486154858),\n",
       " (0, 0.012147058902398701),\n",
       " (4, 4.021436107794935),\n",
       " (1, 0.9968514252209749),\n",
       " (2, 2.0707925513183953),\n",
       " (0, -0.10032762742564515),\n",
       " (2, 2.082663527573352),\n",
       " (2, 1.962185160394932),\n",
       " (2, 1.9963582161167401),\n",
       " (0, 0.07602986605368606),\n",
       " (2, 2.0085953939096663),\n",
       " (2, 1.960768246159298),\n",
       " (2, 1.980887986879907),\n",
       " (0, 0.05235579590751269),\n",
       " (3, 2.986225574202494)]"
      ]
     },
     "execution_count": 37,
     "metadata": {},
     "output_type": "execute_result"
    }
   ],
   "source": [
    "labelsmooth_std=0.05\n",
    "list(zip(df.target, np.random.randn(len(df))*labelsmooth_std+df.target))"
   ]
  },
  {
   "cell_type": "code",
   "execution_count": 38,
   "metadata": {},
   "outputs": [],
   "source": [
    "df['target'] = np.random.randn(len(df))*labelsmooth_std+df.target"
   ]
  },
  {
   "cell_type": "code",
   "execution_count": 39,
   "metadata": {},
   "outputs": [],
   "source": [
    "df.loc[df.target>4,'target']=4\n",
    "df.loc[df.target<0,'target']=0"
   ]
  },
  {
   "cell_type": "code",
   "execution_count": 40,
   "metadata": {},
   "outputs": [
    {
     "data": {
      "text/html": [
       "<div>\n",
       "<style scoped>\n",
       "    .dataframe tbody tr th:only-of-type {\n",
       "        vertical-align: middle;\n",
       "    }\n",
       "\n",
       "    .dataframe tbody tr th {\n",
       "        vertical-align: top;\n",
       "    }\n",
       "\n",
       "    .dataframe thead th {\n",
       "        text-align: right;\n",
       "    }\n",
       "</style>\n",
       "<table border=\"1\" class=\"dataframe\">\n",
       "  <thead>\n",
       "    <tr style=\"text-align: right;\">\n",
       "      <th></th>\n",
       "      <th>fnm</th>\n",
       "      <th>target</th>\n",
       "      <th>is_val</th>\n",
       "    </tr>\n",
       "  </thead>\n",
       "  <tbody>\n",
       "    <tr>\n",
       "      <th>156</th>\n",
       "      <td>../input/aptos2019-blindness-detection/train_i...</td>\n",
       "      <td>0.024690</td>\n",
       "      <td>False</td>\n",
       "    </tr>\n",
       "    <tr>\n",
       "      <th>439</th>\n",
       "      <td>../input/aptos2019-blindness-detection/train_i...</td>\n",
       "      <td>1.957671</td>\n",
       "      <td>False</td>\n",
       "    </tr>\n",
       "    <tr>\n",
       "      <th>449</th>\n",
       "      <td>../input/aptos2019-blindness-detection/train_i...</td>\n",
       "      <td>0.000000</td>\n",
       "      <td>True</td>\n",
       "    </tr>\n",
       "    <tr>\n",
       "      <th>68</th>\n",
       "      <td>../input/aptos2019-blindness-detection/train_i...</td>\n",
       "      <td>0.063142</td>\n",
       "      <td>False</td>\n",
       "    </tr>\n",
       "    <tr>\n",
       "      <th>183</th>\n",
       "      <td>../input/aptos2019-blindness-detection/train_i...</td>\n",
       "      <td>0.000000</td>\n",
       "      <td>True</td>\n",
       "    </tr>\n",
       "  </tbody>\n",
       "</table>\n",
       "</div>"
      ],
      "text/plain": [
       "                                                   fnm    target  is_val\n",
       "156  ../input/aptos2019-blindness-detection/train_i...  0.024690   False\n",
       "439  ../input/aptos2019-blindness-detection/train_i...  1.957671   False\n",
       "449  ../input/aptos2019-blindness-detection/train_i...  0.000000    True\n",
       "68   ../input/aptos2019-blindness-detection/train_i...  0.063142   False\n",
       "183  ../input/aptos2019-blindness-detection/train_i...  0.000000    True"
      ]
     },
     "execution_count": 40,
     "metadata": {},
     "output_type": "execute_result"
    }
   ],
   "source": [
    "df.sample(5)"
   ]
  },
  {
   "cell_type": "markdown",
   "metadata": {},
   "source": [
    "# dataset"
   ]
  },
  {
   "cell_type": "code",
   "execution_count": 26,
   "metadata": {},
   "outputs": [
    {
     "name": "stdout",
     "output_type": "stream",
     "text": [
      "CPU times: user 45.9 s, sys: 19.3 s, total: 1min 5s\n",
      "Wall time: 47 s\n"
     ]
    }
   ],
   "source": [
    "%%time\n",
    "tfms = get_transforms()\n",
    "\n",
    "def get_data(sz, bs):\n",
    "    src = (ImageList.from_df(df=df,path='./',cols='fnm') \n",
    "            .split_from_df(col='is_val') \n",
    "            .label_from_df(cols='target',  \n",
    "                           label_cls=FloatList)\n",
    "          )\n",
    "\n",
    "    data= (src.transform(tfms, size=sz) #Data augmentation\n",
    "            .databunch(bs=bs) #DataBunch\n",
    "            .normalize(imagenet_stats) #Normalize     \n",
    "           )\n",
    "    return data\n",
    "\n",
    "bs = BS \n",
    "sz = SZ\n",
    "set_torch_seed()\n",
    "data = get_data(sz, bs)"
   ]
  },
  {
   "cell_type": "raw",
   "metadata": {},
   "source": [
    "%%time\n",
    "data.show_batch(rows=3, figsize=(7,6))"
   ]
  },
  {
   "cell_type": "markdown",
   "metadata": {},
   "source": [
    "# model"
   ]
  },
  {
   "cell_type": "code",
   "execution_count": 27,
   "metadata": {},
   "outputs": [
    {
     "name": "stdout",
     "output_type": "stream",
     "text": [
      "CPU times: user 8.99 ms, sys: 46.3 ms, total: 55.3 ms\n",
      "Wall time: 1.2 s\n"
     ]
    }
   ],
   "source": [
    "%%time\n",
    "# Downloading: \"https://download.pytorch.org/models/resnet50-19c8e357.pth\" to /tmp/.cache/torch/checkpoints/resnet50-19c8e357.pth\n",
    "\n",
    "# Making pretrained weights work without needing to find the default filename\n",
    "if not os.path.exists('/tmp/.cache/torch/checkpoints/'):\n",
    "        os.makedirs('/tmp/.cache/torch/checkpoints/')\n",
    "!cp '../input/pytorch-vision-pretrained-models/resnet50-19c8e357.pth' '/tmp/.cache/torch/checkpoints/resnet50-19c8e357.pth'"
   ]
  },
  {
   "cell_type": "code",
   "execution_count": 28,
   "metadata": {},
   "outputs": [
    {
     "name": "stderr",
     "output_type": "stream",
     "text": [
      "Downloading: \"https://download.pytorch.org/models/resnet50-19c8e357.pth\" to /root/.cache/torch/checkpoints/resnet50-19c8e357.pth\n",
      "100%|██████████| 102502400/102502400 [00:06<00:00, 15497859.41it/s]\n"
     ]
    }
   ],
   "source": [
    "learn = cnn_learner(data, \n",
    "                    base_arch = models.resnet50, \n",
    "                    path=p_o)\n",
    "learn.loss = MSELossFlat\n",
    "\n",
    "if FP16: learn = learn.to_fp16()"
   ]
  },
  {
   "cell_type": "code",
   "execution_count": 29,
   "metadata": {},
   "outputs": [],
   "source": [
    "learn.freeze()"
   ]
  },
  {
   "cell_type": "code",
   "execution_count": 30,
   "metadata": {},
   "outputs": [
    {
     "data": {
      "text/plain": [
       "292"
      ]
     },
     "execution_count": 30,
     "metadata": {},
     "output_type": "execute_result"
    }
   ],
   "source": [
    "len(learn.data.train_dl)"
   ]
  },
  {
   "cell_type": "code",
   "execution_count": 31,
   "metadata": {},
   "outputs": [
    {
     "data": {
      "text/html": [],
      "text/plain": [
       "<IPython.core.display.HTML object>"
      ]
     },
     "metadata": {},
     "output_type": "display_data"
    },
    {
     "name": "stdout",
     "output_type": "stream",
     "text": [
      "LR Finder is complete, type {learner_name}.recorder.plot() to see the graph.\n",
      "CPU times: user 14.7 s, sys: 7.64 s, total: 22.3 s\n",
      "Wall time: 13min 9s\n"
     ]
    }
   ],
   "source": [
    "%%time\n",
    "learn.lr_find(start_lr=1e-4)"
   ]
  },
  {
   "cell_type": "code",
   "execution_count": 32,
   "metadata": {},
   "outputs": [
    {
     "name": "stdout",
     "output_type": "stream",
     "text": [
      "Min numerical gradient: 2.00E-02\n",
      "Min loss divided by 10: 1.00E-02\n"
     ]
    },
    {
     "data": {
      "image/png": "[encoded data removed]",
      "text/plain": [
       "<Figure size 432x288 with 1 Axes>"
      ]
     },
     "metadata": {
      "needs_background": "light"
     },
     "output_type": "display_data"
    }
   ],
   "source": [
    "learn.recorder.plot(suggestion=True)"
   ]
  },
  {
   "cell_type": "code",
   "execution_count": null,
   "metadata": {
    "scrolled": true
   },
   "outputs": [
    {
     "data": {
      "text/html": [
       "\n",
       "    <div>\n",
       "        <style>\n",
       "            /* Turns off some styling */\n",
       "            progress {\n",
       "                /* gets rid of default border in Firefox and Opera. */\n",
       "                border: none;\n",
       "                /* Needs to be in here for Safari polyfill so background images work as expected. */\n",
       "                background-size: auto;\n",
       "            }\n",
       "            .progress-bar-interrupted, .progress-bar-interrupted::-webkit-progress-bar {\n",
       "                background: #F44336;\n",
       "            }\n",
       "        </style>\n",
       "      <progress value='6' class='' max='15', style='width:300px; height:20px; vertical-align: middle;'></progress>\n",
       "      40.00% [6/15 5:15:36<7:53:24]\n",
       "    </div>\n",
       "    \n",
       "<table border=\"1\" class=\"dataframe\">\n",
       "  <thead>\n",
       "    <tr style=\"text-align: left;\">\n",
       "      <th>epoch</th>\n",
       "      <th>train_loss</th>\n",
       "      <th>valid_loss</th>\n",
       "      <th>time</th>\n",
       "    </tr>\n",
       "  </thead>\n",
       "  <tbody>\n",
       "    <tr>\n",
       "      <td>0</td>\n",
       "      <td>0.827849</td>\n",
       "      <td>0.469544</td>\n",
       "      <td>51:46</td>\n",
       "    </tr>\n",
       "    <tr>\n",
       "      <td>1</td>\n",
       "      <td>0.617549</td>\n",
       "      <td>0.810964</td>\n",
       "      <td>52:20</td>\n",
       "    </tr>\n",
       "    <tr>\n",
       "      <td>2</td>\n",
       "      <td>0.582849</td>\n",
       "      <td>0.478796</td>\n",
       "      <td>53:07</td>\n",
       "    </tr>\n",
       "    <tr>\n",
       "      <td>3</td>\n",
       "      <td>0.561039</td>\n",
       "      <td>0.402649</td>\n",
       "      <td>53:52</td>\n",
       "    </tr>\n",
       "    <tr>\n",
       "      <td>4</td>\n",
       "      <td>0.544231</td>\n",
       "      <td>0.456477</td>\n",
       "      <td>53:15</td>\n",
       "    </tr>\n",
       "    <tr>\n",
       "      <td>5</td>\n",
       "      <td>0.546498</td>\n",
       "      <td>0.936179</td>\n",
       "      <td>51:14</td>\n",
       "    </tr>\n",
       "  </tbody>\n",
       "</table><p>\n",
       "\n",
       "    <div>\n",
       "        <style>\n",
       "            /* Turns off some styling */\n",
       "            progress {\n",
       "                /* gets rid of default border in Firefox and Opera. */\n",
       "                border: none;\n",
       "                /* Needs to be in here for Safari polyfill so background images work as expected. */\n",
       "                background-size: auto;\n",
       "            }\n",
       "            .progress-bar-interrupted, .progress-bar-interrupted::-webkit-progress-bar {\n",
       "                background: #F44336;\n",
       "            }\n",
       "        </style>\n",
       "      <progress value='96' class='' max='292', style='width:300px; height:20px; vertical-align: middle;'></progress>\n",
       "      32.88% [96/292 17:05<34:53 0.5253]\n",
       "    </div>\n",
       "    "
      ],
      "text/plain": [
       "<IPython.core.display.HTML object>"
      ]
     },
     "metadata": {},
     "output_type": "display_data"
    },
    {
     "name": "stdout",
     "output_type": "stream",
     "text": [
      "Better model found at epoch 0 with valid_loss value: 0.4695436656475067.\n",
      "Better model found at epoch 3 with valid_loss value: 0.4026488959789276.\n"
     ]
    }
   ],
   "source": [
    "set_torch_seed()\n",
    "learn.fit_one_cycle(15, max_lr=1e-2, callbacks=[SaveModelCallback(learn, name='bestmodel_frozen')])"
   ]
  },
  {
   "cell_type": "code",
   "execution_count": null,
   "metadata": {},
   "outputs": [],
   "source": [
    "learn.recorder.plot_losses()\n",
    "# learn.recorder.plot_metrics()"
   ]
  },
  {
   "cell_type": "code",
   "execution_count": null,
   "metadata": {},
   "outputs": [],
   "source": [
    "learn.save('mdl-frozen')"
   ]
  },
  {
   "cell_type": "code",
   "execution_count": null,
   "metadata": {},
   "outputs": [],
   "source": [
    "!nvidia-smi"
   ]
  },
  {
   "cell_type": "code",
   "execution_count": null,
   "metadata": {},
   "outputs": [],
   "source": [
    "learn.unfreeze()"
   ]
  },
  {
   "cell_type": "code",
   "execution_count": null,
   "metadata": {},
   "outputs": [],
   "source": [
    "%%time\n",
    "learn.lr_find()\n",
    "learn.recorder.plot(suggestion=True)"
   ]
  },
  {
   "cell_type": "code",
   "execution_count": null,
   "metadata": {},
   "outputs": [],
   "source": [
    "set_torch_seed()\n",
    "learn.fit_one_cycle(10, max_lr=slice(1e-6,1e-4), callbacks=[SaveModelCallback(learn, name='bestmodel_finetune')])"
   ]
  },
  {
   "cell_type": "code",
   "execution_count": null,
   "metadata": {},
   "outputs": [],
   "source": [
    "learn.recorder.plot_losses()\n",
    "# learn.recorder.plot_metrics()"
   ]
  },
  {
   "cell_type": "code",
   "execution_count": null,
   "metadata": {},
   "outputs": [],
   "source": [
    "learn.save('mdl')"
   ]
  },
  {
   "cell_type": "code",
   "execution_count": null,
   "metadata": {},
   "outputs": [],
   "source": [
    "!nvidia-smi"
   ]
  },
  {
   "cell_type": "markdown",
   "metadata": {},
   "source": [
    "# validate and thresholding"
   ]
  },
  {
   "cell_type": "code",
   "execution_count": null,
   "metadata": {},
   "outputs": [],
   "source": [
    "learn = learn.to_fp32()"
   ]
  },
  {
   "cell_type": "code",
   "execution_count": null,
   "metadata": {},
   "outputs": [],
   "source": [
    "%%time\n",
    "set_torch_seed()\n",
    "preds_val, y_val = learn.get_preds(ds_type=DatasetType.Valid)"
   ]
  },
  {
   "cell_type": "code",
   "execution_count": null,
   "metadata": {},
   "outputs": [],
   "source": [
    "preds_val = preds_val.numpy().squeeze()\n",
    "y_val= y_val.numpy()"
   ]
  },
  {
   "cell_type": "code",
   "execution_count": null,
   "metadata": {},
   "outputs": [],
   "source": [
    "np.save(f'{p_o}/preds_val.npy', preds_val)\n",
    "np.save(f'{p_o}/y_val.npy', y_val)"
   ]
  },
  {
   "cell_type": "code",
   "execution_count": null,
   "metadata": {},
   "outputs": [],
   "source": [
    "# https://www.kaggle.com/c/petfinder-adoption-prediction/discussion/88773#latest-515044\n",
    "# We used OptimizedRounder given by hocop1. https://www.kaggle.com/c/petfinder-adoption-prediction/discussion/76107#480970\n",
    "# put numerical value to one of bins\n",
    "def to_bins(x, borders):\n",
    "    for i in range(len(borders)):\n",
    "        if x <= borders[i]:\n",
    "            return i\n",
    "    return len(borders)\n",
    "\n",
    "class Hocop1OptimizedRounder(object):\n",
    "    def __init__(self):\n",
    "        self.coef_ = 0\n",
    "\n",
    "    def _loss(self, coef, X, y, idx):\n",
    "        X_p = np.array([to_bins(pred, coef) for pred in X])\n",
    "        ll = -quadratic_weighted_kappa(y, X_p)\n",
    "        return ll\n",
    "\n",
    "    def fit(self, X, y):\n",
    "        coef = [1.5, 2.0, 2.5, 3.0]\n",
    "        golden1 = 0.618\n",
    "        golden2 = 1 - golden1\n",
    "        ab_start = [(1, 2), (1.5, 2.5), (2, 3), (2.5, 3.5)]\n",
    "        for it1 in range(10):\n",
    "            for idx in range(4):\n",
    "                # golden section search\n",
    "                a, b = ab_start[idx]\n",
    "                # calc losses\n",
    "                coef[idx] = a\n",
    "                la = self._loss(coef, X, y, idx)\n",
    "                coef[idx] = b\n",
    "                lb = self._loss(coef, X, y, idx)\n",
    "                for it in range(20):\n",
    "                    # choose value\n",
    "                    if la > lb:\n",
    "                        a = b - (b - a) * golden1\n",
    "                        coef[idx] = a\n",
    "                        la = self._loss(coef, X, y, idx)\n",
    "                    else:\n",
    "                        b = b - (b - a) * golden2\n",
    "                        coef[idx] = b\n",
    "                        lb = self._loss(coef, X, y, idx)\n",
    "        self.coef_ = {'x': coef}\n",
    "\n",
    "    def predict(self, X, coef):\n",
    "        X_p = np.array([to_bins(pred, coef) for pred in X])\n",
    "        return X_p\n",
    "\n",
    "    def coefficients(self):\n",
    "        return self.coef_['x']"
   ]
  },
  {
   "cell_type": "code",
   "execution_count": null,
   "metadata": {},
   "outputs": [],
   "source": [
    "# https://www.kaggle.com/c/petfinder-adoption-prediction/discussion/76107#480970\n",
    "class AbhishekOptimizedRounder(object):\n",
    "    def __init__(self):\n",
    "        self.coef_ = 0\n",
    "\n",
    "    def _kappa_loss(self, coef, X, y):\n",
    "        X_p = np.copy(X)\n",
    "        for i, pred in enumerate(X_p):\n",
    "            if pred < coef[0]:\n",
    "                X_p[i] = 0\n",
    "            elif pred >= coef[0] and pred < coef[1]:\n",
    "                X_p[i] = 1\n",
    "            elif pred >= coef[1] and pred < coef[2]:\n",
    "                X_p[i] = 2\n",
    "            elif pred >= coef[2] and pred < coef[3]:\n",
    "                X_p[i] = 3\n",
    "            else:\n",
    "                X_p[i] = 4\n",
    "\n",
    "        ll = quadratic_weighted_kappa(y, X_p)\n",
    "        return -ll\n",
    "\n",
    "    def fit(self, X, y):\n",
    "        loss_partial = partial(self._kappa_loss, X=X, y=y)\n",
    "        initial_coef = [0.5, 1.5, 2.5, 3.5]\n",
    "        self.coef_ = sp.optimize.minimize(loss_partial, initial_coef, method='nelder-mead')\n",
    "\n",
    "    def predict(self, X, coef):\n",
    "        X_p = np.copy(X)\n",
    "        for i, pred in enumerate(X_p):\n",
    "            if pred < coef[0]:\n",
    "                X_p[i] = 0\n",
    "            elif pred >= coef[0] and pred < coef[1]:\n",
    "                X_p[i] = 1\n",
    "            elif pred >= coef[1] and pred < coef[2]:\n",
    "                X_p[i] = 2\n",
    "            elif pred >= coef[2] and pred < coef[3]:\n",
    "                X_p[i] = 3\n",
    "            else:\n",
    "                X_p[i] = 4\n",
    "        return X_p\n",
    "\n",
    "    def coefficients(self):\n",
    "        return self.coef_['x']"
   ]
  },
  {
   "cell_type": "code",
   "execution_count": null,
   "metadata": {},
   "outputs": [],
   "source": [
    "def bucket(preds_raw, coef = [0.5, 1.5, 2.5, 3.5]):\n",
    "    preds = np.zeros(preds_raw.shape)\n",
    "    for i, pred in enumerate(preds_raw):\n",
    "        if pred < coef[0]:\n",
    "            preds[i] = 0\n",
    "        elif pred >= coef[0] and pred < coef[1]:\n",
    "            preds[i] = 1\n",
    "        elif pred >= coef[1] and pred < coef[2]:\n",
    "            preds[i] = 2\n",
    "        elif pred >= coef[2] and pred < coef[3]:\n",
    "            preds[i] = 3\n",
    "        else:\n",
    "            preds[i] = 4\n",
    "    return preds"
   ]
  },
  {
   "cell_type": "code",
   "execution_count": null,
   "metadata": {},
   "outputs": [],
   "source": [
    "optnm2coefs = {'simple': [0.5, 1.5, 2.5, 3.5]}"
   ]
  },
  {
   "cell_type": "code",
   "execution_count": null,
   "metadata": {
    "scrolled": true
   },
   "outputs": [],
   "source": [
    "%%time\n",
    "set_torch_seed()\n",
    "optR = Hocop1OptimizedRounder()\n",
    "optR.fit(preds_val, y_val)\n",
    "optnm2coefs['hocop1'] = optR.coefficients()"
   ]
  },
  {
   "cell_type": "code",
   "execution_count": null,
   "metadata": {
    "scrolled": true
   },
   "outputs": [],
   "source": [
    "%%time\n",
    "set_torch_seed()\n",
    "optR = AbhishekOptimizedRounder()\n",
    "optR.fit(preds_val, y_val)\n",
    "optnm2coefs['abhishek'] = optR.coefficients()"
   ]
  },
  {
   "cell_type": "code",
   "execution_count": null,
   "metadata": {},
   "outputs": [],
   "source": [
    "optnm2coefs"
   ]
  },
  {
   "cell_type": "code",
   "execution_count": null,
   "metadata": {},
   "outputs": [],
   "source": [
    "optnm2preds_val_grd = {k: bucket(preds_val, coef) for k,coef in optnm2coefs.items()}\n",
    "optnm2qwk = {k: quadratic_weighted_kappa(y_val, preds) for k,preds in optnm2preds_val_grd.items()}"
   ]
  },
  {
   "cell_type": "code",
   "execution_count": null,
   "metadata": {},
   "outputs": [],
   "source": [
    "optnm2qwk"
   ]
  },
  {
   "cell_type": "code",
   "execution_count": null,
   "metadata": {
    "scrolled": true
   },
   "outputs": [],
   "source": [
    "Counter(y_val).most_common()"
   ]
  },
  {
   "cell_type": "code",
   "execution_count": null,
   "metadata": {},
   "outputs": [],
   "source": [
    "preds_val_grd = optnm2preds_val_grd['simple'].squeeze()"
   ]
  },
  {
   "cell_type": "code",
   "execution_count": null,
   "metadata": {},
   "outputs": [],
   "source": [
    "preds_val_grd.mean()"
   ]
  },
  {
   "cell_type": "code",
   "execution_count": null,
   "metadata": {},
   "outputs": [],
   "source": [
    "Counter(preds_val_grd).most_common()"
   ]
  },
  {
   "cell_type": "code",
   "execution_count": null,
   "metadata": {},
   "outputs": [],
   "source": [
    "list(zip(preds_val_grd, y_val))[:10]"
   ]
  },
  {
   "cell_type": "code",
   "execution_count": null,
   "metadata": {},
   "outputs": [],
   "source": [
    "(preds_val_grd== y_val.squeeze()).mean()"
   ]
  },
  {
   "cell_type": "code",
   "execution_count": null,
   "metadata": {},
   "outputs": [],
   "source": [
    "pickle.dump(optnm2qwk, open(f'{p_o}/optnm2qwk.p', 'wb'))\n",
    "pickle.dump(optnm2preds_val_grd, open(f'{p_o}/optnm2preds_val_grd.p', 'wb'))\n",
    "pickle.dump(optnm2coefs, open(f'{p_o}/optnm2coefs.p', 'wb'))"
   ]
  },
  {
   "cell_type": "markdown",
   "metadata": {},
   "source": [
    "# testing"
   ]
  },
  {
   "cell_type": "code",
   "execution_count": null,
   "metadata": {},
   "outputs": [],
   "source": [
    "df_test = pd.read_csv('../input/aptos2019-blindness-detection/test.csv')\n",
    "df_test.head()"
   ]
  },
  {
   "cell_type": "code",
   "execution_count": null,
   "metadata": {},
   "outputs": [],
   "source": [
    "learn.data.add_test(\n",
    "    ImageList.from_df(df_test,\n",
    "                      '../input/aptos2019-blindness-detection',\n",
    "                      folder='test_images',\n",
    "                      suffix='.png'))"
   ]
  },
  {
   "cell_type": "code",
   "execution_count": null,
   "metadata": {},
   "outputs": [],
   "source": [
    "%%time\n",
    "set_torch_seed()\n",
    "preds_tst, _ = learn.get_preds(ds_type=DatasetType.Test)\n",
    "preds_tst = preds_tst.numpy().squeeze()"
   ]
  },
  {
   "cell_type": "code",
   "execution_count": null,
   "metadata": {},
   "outputs": [],
   "source": [
    "np.save(f'{p_o}/preds_tst.npy', preds_tst)"
   ]
  },
  {
   "cell_type": "code",
   "execution_count": null,
   "metadata": {},
   "outputs": [],
   "source": [
    "def bucket(preds_raw, coef = [0.5, 1.5, 2.5, 3.5]):\n",
    "    preds = np.zeros(preds_raw.shape)\n",
    "    for i, pred in enumerate(preds_raw):\n",
    "        if pred < coef[0]:\n",
    "            preds[i] = 0\n",
    "        elif pred >= coef[0] and pred < coef[1]:\n",
    "            preds[i] = 1\n",
    "        elif pred >= coef[1] and pred < coef[2]:\n",
    "            preds[i] = 2\n",
    "        elif pred >= coef[2] and pred < coef[3]:\n",
    "            preds[i] = 3\n",
    "        else:\n",
    "            preds[i] = 4\n",
    "    return preds"
   ]
  },
  {
   "cell_type": "code",
   "execution_count": null,
   "metadata": {},
   "outputs": [],
   "source": [
    "coef = optnm2coefs['simple']\n",
    "preds_tst_grd = bucket(preds_tst, coef)"
   ]
  },
  {
   "cell_type": "code",
   "execution_count": null,
   "metadata": {},
   "outputs": [],
   "source": [
    "preds_tst_grd.squeeze()"
   ]
  },
  {
   "cell_type": "code",
   "execution_count": null,
   "metadata": {
    "scrolled": true
   },
   "outputs": [],
   "source": [
    "Counter(preds_tst_grd.squeeze()).most_common()"
   ]
  },
  {
   "cell_type": "markdown",
   "metadata": {},
   "source": [
    "## submit"
   ]
  },
  {
   "cell_type": "code",
   "execution_count": null,
   "metadata": {},
   "outputs": [],
   "source": [
    "subm = pd.read_csv(\"../input/aptos2019-blindness-detection/test.csv\")\n",
    "subm['diagnosis'] = preds_tst_grd.squeeze().astype(int)\n",
    "subm.head()"
   ]
  },
  {
   "cell_type": "code",
   "execution_count": null,
   "metadata": {
    "scrolled": false
   },
   "outputs": [],
   "source": [
    "subm.diagnosis.value_counts()"
   ]
  },
  {
   "cell_type": "code",
   "execution_count": null,
   "metadata": {},
   "outputs": [],
   "source": [
    "subm.to_csv(f\"{p_o}/submission.csv\", index=False)"
   ]
  },
  {
   "cell_type": "code",
   "execution_count": null,
   "metadata": {},
   "outputs": [],
   "source": []
  },
  {
   "cell_type": "code",
   "execution_count": null,
   "metadata": {},
   "outputs": [],
   "source": []
  },
  {
   "cell_type": "code",
   "execution_count": null,
   "metadata": {
    "_cell_guid": "79c7e3d0-c299-4dcb-8224-4455121ee9b0",
    "_uuid": "d629ff2d2480ee46fbb7e2d37f6b5fab8052498a"
   },
   "outputs": [],
   "source": []
  }
 ],
 "metadata": {
  "kernelspec": {
   "display_name": "Python 3",
   "language": "python",
   "name": "python3"
  },
  "language_info": {
   "codemirror_mode": {
    "name": "ipython",
    "version": 3
   },
   "file_extension": ".py",
   "mimetype": "text/x-python",
   "name": "python",
   "nbconvert_exporter": "python",
   "pygments_lexer": "ipython3",
   "version": "3.6.6"
  },
  "toc": {
   "base_numbering": 1,
   "nav_menu": {},
   "number_sections": true,
   "sideBar": true,
   "skip_h1_title": false,
   "title_cell": "Table of Contents",
   "title_sidebar": "Contents",
   "toc_cell": false,
   "toc_position": {},
   "toc_section_display": true,
   "toc_window_display": true
  }
 },
 "nbformat": 4,
 "nbformat_minor": 1
}
