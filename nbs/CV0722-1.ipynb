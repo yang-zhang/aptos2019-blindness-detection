{
 "cells": [
  {
   "cell_type": "markdown",
   "metadata": {},
   "source": [
    "https://www.kaggle.com/c/aptos2019-blindness-detection/discussion/97860#581042\n",
    "    CV: 0.885\n",
    "    LB: 0.821\n",
    "\n",
    "    image size 256x256\n",
    "    EfficientNet-B3, no ensemble, no TTA\n",
    "    training as a regression model\n",
    "    using both old and current competition dataset\n",
    "\n",
    "    I used about 20% of the aptos data for validation. I made to make the val distribution a little bid smooth because there were too many 0 labeled data. However, even if the random seed is changed, the score changes greatly, so I don't know what is essentially effective.\n",
    "\n",
    "    Both old and current data are used together. The objective is MSE. monitoring Optimized kappa (to save)."
   ]
  },
  {
   "cell_type": "markdown",
   "metadata": {},
   "source": [
    "http://localhost:8888/notebooks/data/git/blnd/nbs/DevLookSubmDistr.ipynb#\n",
    "\n",
    "    2    1050\n",
    "    3     373\n",
    "    0     321\n",
    "    1     138\n",
    "    4      46"
   ]
  },
  {
   "cell_type": "code",
   "execution_count": null,
   "metadata": {},
   "outputs": [],
   "source": []
  }
 ],
 "metadata": {
  "kernelspec": {
   "display_name": "Python 3",
   "language": "python",
   "name": "python3"
  },
  "language_info": {
   "codemirror_mode": {
    "name": "ipython",
    "version": 3
   },
   "file_extension": ".py",
   "mimetype": "text/x-python",
   "name": "python",
   "nbconvert_exporter": "python",
   "pygments_lexer": "ipython3",
   "version": "3.6.6"
  },
  "toc": {
   "base_numbering": 1,
   "nav_menu": {},
   "number_sections": true,
   "sideBar": true,
   "skip_h1_title": false,
   "title_cell": "Table of Contents",
   "title_sidebar": "Contents",
   "toc_cell": false,
   "toc_position": {},
   "toc_section_display": true,
   "toc_window_display": false
  }
 },
 "nbformat": 4,
 "nbformat_minor": 2
}
