{
 "cells": [
  {
   "cell_type": "markdown",
   "metadata": {},
   "source": [
    "Kaggle Diabetic Retinopathy Detection competition report\n",
    "https://www.kaggle.com/c/diabetic-retinopathy-detection/discussion/15801#latest-370950\n"
   ]
  },
  {
   "cell_type": "code",
   "execution_count": 6,
   "metadata": {},
   "outputs": [],
   "source": [
    "import cv2\n",
    "import glob\n",
    "import numpy as np\n",
    "\n",
    "def scaleRadius (img, scale):\n",
    "    x=img[img.shape[0]/2,:,:].sum(1)\n",
    "    r=(x>x.mean()/10).sum()/2 \n",
    "    s=scale*1.0/r \n",
    "    return cv2.resize(img,(0,0), fx=s,fy=s)"
   ]
  },
  {
   "cell_type": "code",
   "execution_count": 14,
   "metadata": {},
   "outputs": [],
   "source": [
    "scale=300\n",
    "for f in glob.glob(\"t r a i n / ∗ . j p e g \" )+glob.glob(\" t e s t / ∗ . j p e g \" ): \n",
    "    try:\n",
    "        a = cv2.imread(f) \n",
    "        #s c a l e img t o a g i v e n r ad i u s \n",
    "        a = scaleRadius(a, scale) \n",
    "        #s u b t r a c t l o c a l mean c o l o r \n",
    "        a = cv2.addWeighted(a,4,cv2.GaussianBlur(a,(0,0),scale/30),-4,128)\n",
    "        #remove o u t e r 10% \n",
    "        b = np.zeros(a.shape)\n",
    "        cv2.circle(b, (a.shape[1]/2, a.shape[0]/2),int(scale*0.9),(1,1,1),-1,8,0)\n",
    "        a=a*b+128*(1-b) \n",
    "        cv2.imwrite(str(scale)+\"_\"+f,a)\n",
    "    except: \n",
    "        print(f)"
   ]
  },
  {
   "cell_type": "code",
   "execution_count": null,
   "metadata": {},
   "outputs": [],
   "source": []
  },
  {
   "cell_type": "code",
   "execution_count": null,
   "metadata": {},
   "outputs": [],
   "source": []
  }
 ],
 "metadata": {
  "kernelspec": {
   "display_name": "Python 3",
   "language": "python",
   "name": "python3"
  },
  "language_info": {
   "codemirror_mode": {
    "name": "ipython",
    "version": 3
   },
   "file_extension": ".py",
   "mimetype": "text/x-python",
   "name": "python",
   "nbconvert_exporter": "python",
   "pygments_lexer": "ipython3",
   "version": "3.6.6"
  },
  "toc": {
   "base_numbering": 1,
   "nav_menu": {},
   "number_sections": true,
   "sideBar": true,
   "skip_h1_title": false,
   "title_cell": "Table of Contents",
   "title_sidebar": "Contents",
   "toc_cell": false,
   "toc_position": {},
   "toc_section_display": true,
   "toc_window_display": false
  }
 },
 "nbformat": 4,
 "nbformat_minor": 2
}
